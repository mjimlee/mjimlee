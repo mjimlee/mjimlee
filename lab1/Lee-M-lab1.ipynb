{
 "cells": [
  {
   "cell_type": "markdown",
   "metadata": {},
   "source": [
    "192805\n",
    "LEE\n",
    "2 BS ITE"
   ]
  },
  {
   "cell_type": "markdown",
   "metadata": {},
   "source": [
    "#### Problem 1"
   ]
  },
  {
   "cell_type": "code",
   "execution_count": 6,
   "metadata": {},
   "outputs": [
    {
     "name": "stdout",
     "output_type": "stream",
     "text": [
      "Enter the amount in US Dollars:20\n",
      "20 US Dollar(s) = 1000 Philippine Pesos\n"
     ]
    }
   ],
   "source": [
    "usd = int(input(\"Enter the amount in US Dollars: \"))\n",
    "def dollars_to_pesos(usd) :\n",
    "    return (usd*50)\n",
    "print(usd,\"US Dollar(s) =\", dollars_to_pesos(usd), \"Philippine Pesos\")"
   ]
  },
  {
   "cell_type": "markdown",
   "metadata": {},
   "source": [
    "#### Problem 2"
   ]
  },
  {
   "cell_type": "code",
   "execution_count": 25,
   "metadata": {},
   "outputs": [
    {
     "name": "stdout",
     "output_type": "stream",
     "text": [
      "20\n",
      "19\n",
      "39\n",
      "1\n",
      "380\n",
      "1\n",
      "1\n"
     ]
    }
   ],
   "source": [
    "a = int(input())\n",
    "b = int(input())\n",
    "\n",
    "\n",
    "# sum\n",
    "print(a+b)\n",
    "\n",
    "# b subtracted from a\n",
    "print(a-b)\n",
    "\n",
    "# product of a and b\n",
    "print(a*b)\n",
    "\n",
    "#quotient\n",
    "print(a//b)\n",
    "\n",
    "#remainder\n",
    "print(a%b)"
   ]
  },
  {
   "cell_type": "markdown",
   "metadata": {},
   "source": [
    "#### Problem 3"
   ]
  },
  {
   "cell_type": "code",
   "execution_count": 31,
   "metadata": {},
   "outputs": [
    {
     "name": "stdout",
     "output_type": "stream",
     "text": [
      "Enter kg:56\n",
      "Enter cm:172\n",
      "BMI: 18.92915089237426\n"
     ]
    }
   ],
   "source": [
    "kg = int(input(\"Enter kg:\"))\n",
    "cm = int(input(\"Enter cm:\"))\n",
    "\n",
    "def cm_to_m(cm) :\n",
    "    return (cm/100)\n",
    "m = cm_to_m(cm)\n",
    "\n",
    "def compute_bmi(kg,m) :\n",
    "    return (kg/ (m*m))\n",
    "print(\"BMI:\", compute_bmi(kg,m))"
   ]
  }
 ],
 "metadata": {
  "kernelspec": {
   "display_name": "Python 3",
   "language": "python",
   "name": "python3"
  },
  "language_info": {
   "codemirror_mode": {
    "name": "ipython",
    "version": 3
   },
   "file_extension": ".py",
   "mimetype": "text/x-python",
   "name": "python",
   "nbconvert_exporter": "python",
   "pygments_lexer": "ipython3",
   "version": "3.8.5"
  }
 },
 "nbformat": 4,
 "nbformat_minor": 4
}
