{
 "cells": [
  {
   "cell_type": "markdown",
   "metadata": {},
   "source": [
    "##### 192805\n",
    "##### Lee\n",
    "##### 2 BS ITE"
   ]
  },
  {
   "cell_type": "markdown",
   "metadata": {},
   "source": [
    "### Problem 1"
   ]
  },
  {
   "cell_type": "code",
   "execution_count": 27,
   "metadata": {
    "scrolled": true
   },
   "outputs": [
    {
     "name": "stdout",
     "output_type": "stream",
     "text": [
      "from: @bongolpoc\n",
      "to: @chums\n",
      "followed by\n"
     ]
    }
   ],
   "source": [
    "social_graph = {\n",
    "    \"@bongolpoc\":{\"first_name\":\"Joselito\",\n",
    "                  \"last_name\":\"Olpoc\",\n",
    "                  \"following\":[\n",
    "                  ]\n",
    "    },\n",
    "    \"@joaquin\":  {\"first_name\":\"Joaquin\",\n",
    "                  \"last_name\":\"Gonzales\",\n",
    "                  \"following\":[\n",
    "                      \"@chums\",\"@jobenilagan\"\n",
    "                  ]\n",
    "    },\n",
    "    \"@chums\" : {\"first_name\":\"Matthew\",\n",
    "                \"last_name\":\"Uy\",\n",
    "                \"following\":[\n",
    "                    \"@bongolpoc\",\"@miketan\",\"@rudyang\",\"@joeilagan\"\n",
    "                ]\n",
    "    },\n",
    "    \"@jobenilagan\":{\"first_name\":\"Joben\",\n",
    "                   \"last_name\":\"Ilagan\",\n",
    "                   \"following\":[\n",
    "                    \"@eeebeee\",\"@joeilagan\",\"@chums\",\"@joaquin\"\n",
    "                   ]\n",
    "    },\n",
    "    \"@joeilagan\":{\"first_name\":\"Joe\",\n",
    "                  \"last_name\":\"Ilagan\",\n",
    "                  \"following\":[\n",
    "                    \"@eeebeee\",\"@jobenilagan\",\"@chums\"\n",
    "                  ]\n",
    "    },\n",
    "    \"@eeebeee\":  {\"first_name\":\"Elizabeth\",\n",
    "                  \"last_name\":\"Ilagan\",\n",
    "                  \"following\":[\n",
    "                    \"@jobenilagan\",\"@joeilagan\"\n",
    "                  ]\n",
    "    },\n",
    "}\n",
    "\n",
    "from_member= (input(\"from: \"))\n",
    "to_member= (input(\"to: \"))\n",
    "\n",
    "def relationship_status(from_member,to_member):\n",
    "    \n",
    "    if from_member in social_graph[to_member][\"following\"] and to_member in social_graph[from_member][\"following\"]:\n",
    "        return \"friends\"\n",
    "    elif from_member in social_graph[to_member][\"following\"]:\n",
    "        return \"followed by\"\n",
    "    elif to_member in social_graph[from_member][\"following\"]:\n",
    "        return \"follower\"\n",
    "    else:\n",
    "        return None\n",
    "\n",
    "print(relationship_status(from_member, to_member))"
   ]
  },
  {
   "cell_type": "markdown",
   "metadata": {},
   "source": [
    "### Problem 2"
   ]
  },
  {
   "cell_type": "code",
   "execution_count": 53,
   "metadata": {
    "scrolled": true
   },
   "outputs": [],
   "source": [
    "board1 = [\n",
    "['X','X','O'],\n",
    "['O','X','O'],\n",
    "['O','','X'],\n",
    "]\n",
    "\n",
    "board2 = [\n",
    "['X','X','O'],\n",
    "['O','X','O'],\n",
    "['','O','X'],\n",
    "]\n",
    "\n",
    "board3 = [\n",
    "['O','X','O'],\n",
    "['','O','X'],\n",
    "['X','X','O'],\n",
    "]\n",
    "\n",
    "board4 = [\n",
    "['X','X','X'],\n",
    "['O','X','O'],\n",
    "['O','','O'],\n",
    "]\n",
    "\n",
    "board5 = [\n",
    "['X','X','O'],\n",
    "['O','X','O'],\n",
    "['X','','O'],\n",
    "]\n",
    "\n",
    "board6 = [\n",
    "['X','X','O'],\n",
    "['O','X','O'],\n",
    "['X','',''],\n",
    "]\n",
    "\n",
    "def get_winner(board):\n",
    "\n",
    "    horizontal = [a for a in board]\n",
    "    vertical = [a for a in zip(*board)]  \n",
    "    diagonal_1 = [board[i][i] for i,v in enumerate(board)]\n",
    "    diagonal_2 = [board[2-i][i] for i,v in enumerate(board)]\n",
    "    \n",
    "    x1 = [\"X\", \"X\", \"X\"]\n",
    "    o1 = [\"O\", \"O\", \"O\"]\n",
    "    x2 = (\"X\", \"X\", \"X\")\n",
    "    o2 = (\"O\", \"O\", \"O\")\n",
    "    \n",
    "    if (x1 in horizontal) or (x2 in vertical) or (diagonal_1 == x1) or (diagonal_2 == x1):\n",
    "        print(\"X\")\n",
    "    elif (o1 in horizontal) or (o2 in vertical) or (diagonal_1 == o1) or (diagonal_2 == o1):\n",
    "        print(\"O\")\n",
    "        \n",
    "    else:\n",
    "        print(\"None\")\n",
    "        "
   ]
  },
  {
   "cell_type": "code",
   "execution_count": 55,
   "metadata": {},
   "outputs": [
    {
     "name": "stdout",
     "output_type": "stream",
     "text": [
      "X\n",
      "O\n",
      "None\n"
     ]
    }
   ],
   "source": [
    "get_winner(board1)\n",
    "get_winner(board3)\n",
    "get_winner(board6)"
   ]
  },
  {
   "cell_type": "markdown",
   "metadata": {},
   "source": [
    "### Problem 3"
   ]
  },
  {
   "cell_type": "code",
   "execution_count": 92,
   "metadata": {},
   "outputs": [
    {
     "name": "stdout",
     "output_type": "stream",
     "text": [
      "Enter source: admu\n",
      "Enter destination: upd\n",
      "ETA: 90\n"
     ]
    }
   ],
   "source": [
    "locations = {\n",
    "    \"admu\":{\n",
    "        \"name\":\"Ateneo de Manila University\",\n",
    "        \"latitude\":14.6394557,\n",
    "        \"longitude\":121.0758975        \n",
    "    },\n",
    "    \"upd\":{\n",
    "        \"name\":\"University of the Philippines-Diliman Campus\",\n",
    "        \"latitude\":14.6538519,\n",
    "        \"longitude\":121.0663348\n",
    "    },\n",
    "    \"dlsu\":{\n",
    "        \"name\":\"De La Salle University-Taft\",\n",
    "        \"latitude\":14.5647346,\n",
    "        \"longitude\":120.9909876\n",
    "\n",
    "    }, # <-- Note that Python does not complain about this extra comma. This is perfectly okay. cool <3\n",
    "       #     The creators of Python saw that dictionaries tend to be changed a lot, so allowing this is a\n",
    "       #     convenience for developers who need to add elements when needed.\n",
    "}\n",
    "\n",
    "legs = {\n",
    "     (\"upd\",\"admu\"):{\n",
    "         \"travel_time_mins\":10\n",
    "     },\n",
    "     (\"admu\",\"dlsu\"):{\n",
    "         \"travel_time_mins\":35\n",
    "     },\n",
    "     (\"dlsu\",\"upd\"):{\n",
    "         \"travel_time_mins\":55\n",
    "     }\n",
    "}\n",
    "\n",
    "source=input(\"Enter source: \")\n",
    "destination=input(\"Enter destination: \")\n",
    "\n",
    "def eta(source,destination):\n",
    "    current = source\n",
    "    time = 0\n",
    "    while current != destination:\n",
    "        for element in legs.keys():\n",
    "            if current == element[0]:\n",
    "                time += legs[element][\"travel_time_mins\"]\n",
    "                current = element[1]\n",
    "                break\n",
    "                \n",
    "    return ('ETA: %d' % time)\n",
    "\n",
    "#yessssssss! finallyy!!\n",
    "\n",
    "print(eta(source,destination))"
   ]
  }
 ],
 "metadata": {
  "kernelspec": {
   "display_name": "Python 3",
   "language": "python",
   "name": "python3"
  },
  "language_info": {
   "codemirror_mode": {
    "name": "ipython",
    "version": 3
   },
   "file_extension": ".py",
   "mimetype": "text/x-python",
   "name": "python",
   "nbconvert_exporter": "python",
   "pygments_lexer": "ipython3",
   "version": "3.8.5"
  }
 },
 "nbformat": 4,
 "nbformat_minor": 4
}
