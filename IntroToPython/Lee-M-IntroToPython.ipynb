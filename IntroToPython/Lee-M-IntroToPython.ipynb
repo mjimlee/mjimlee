{
 "cells": [
  {
   "cell_type": "markdown",
   "metadata": {},
   "source": [
    "### 192805\n",
    "### LEE\n",
    "### 2 BS ITE"
   ]
  },
  {
   "cell_type": "code",
   "execution_count": 18,
   "metadata": {},
   "outputs": [],
   "source": [
    "def three_number_average (firstnumber,secondnumber,thirdnumber) :\n",
    "    three_number_average = (firstnumber + secondnumber + thirdnumber) / 3\n",
    "    return three_number_average"
   ]
  },
  {
   "cell_type": "code",
   "execution_count": 19,
   "metadata": {},
   "outputs": [
    {
     "data": {
      "text/plain": [
       "2.0"
      ]
     },
     "execution_count": 19,
     "metadata": {},
     "output_type": "execute_result"
    }
   ],
   "source": [
    "three_number_average (2,2,2)"
   ]
  },
  {
   "cell_type": "code",
   "execution_count": 15,
   "metadata": {
    "scrolled": true
   },
   "outputs": [
    {
     "name": "stdout",
     "output_type": "stream",
     "text": [
      "Enter the first number: 3\n",
      "Enter the second number: 3\n",
      "Enter the third number: 3\n",
      "The average is 3.0\n"
     ]
    }
   ],
   "source": [
    "firstnumber = int(input(\"Enter the first number: \"))\n",
    "assert (firtnumber > 0)\n",
    "\n",
    "secondnumber = int(input(\"Enter the second number: \"))\n",
    "assert (secondnumber > 0)\n",
    "\n",
    "thirdnumber= int(input(\"Enter the third number: \"))\n",
    "assert (thirdnumber > 0)\n",
    "\n",
    "average = three_number_average (firstnumber, secondnumber, thirdnumber)\n",
    "\n",
    "print (\"The average is\",average)"
   ]
  },
  {
   "cell_type": "code",
   "execution_count": 12,
   "metadata": {
    "scrolled": true
   },
   "outputs": [
    {
     "name": "stdout",
     "output_type": "stream",
     "text": [
      "Enter the first number: 1\n",
      "Enter the second number: 1\n",
      "Enter the third number: 1\n",
      "The average is 1.0\n"
     ]
    }
   ],
   "source": [
    "firstnumber = int(input(\"Enter the first number: \"))\n",
    "assert (firstnumber > 0)\n",
    "\n",
    "secondnumber = int(input(\"Enter the second number: \"))\n",
    "assert (secondnumber > 0)\n",
    "\n",
    "thirdnumber = int(input(\"Enter the third number: \"))\n",
    "assert (thirdnumber > 0)\n",
    "\n",
    "average = three_number_average (firstnumber, secondnumber, thirdnumber)\n",
    "\n",
    "print (\"The average is\",average)"
   ]
  },
  {
   "cell_type": "code",
   "execution_count": 11,
   "metadata": {},
   "outputs": [
    {
     "name": "stdout",
     "output_type": "stream",
     "text": [
      "Enter the first number: 2\n",
      "Enter the second number: 4\n",
      "Enter the third number: 6\n",
      "The average is 4.0\n"
     ]
    }
   ],
   "source": [
    "firstnumber = int(input(\"Enter the first number: \"))\n",
    "assert (firstnumber > 0)\n",
    "\n",
    "secondnumber = int(input(\"Enter the second number: \"))\n",
    "assert (secondnumber > 0)\n",
    "\n",
    "thirdnumber = int(input(\"Enter the third number: \"))\n",
    "assert (thirdnumber > 0)\n",
    "\n",
    "average = three_number_average (firstnumber, secondnumber, thirdnumber)\n",
    "\n",
    "print (\"The average is\",average)"
   ]
  }
 ],
 "metadata": {
  "kernelspec": {
   "display_name": "Python 3",
   "language": "python",
   "name": "python3"
  },
  "language_info": {
   "codemirror_mode": {
    "name": "ipython",
    "version": 3
   },
   "file_extension": ".py",
   "mimetype": "text/x-python",
   "name": "python",
   "nbconvert_exporter": "python",
   "pygments_lexer": "ipython3",
   "version": "3.8.5"
  }
 },
 "nbformat": 4,
 "nbformat_minor": 4
}
